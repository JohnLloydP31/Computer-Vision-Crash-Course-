{
  "cells": [
    {
      "cell_type": "markdown",
      "metadata": {
        "id": "Hj9Q5rZAFAlM"
      },
      "source": [
        "Technological Institute of the Philippines | Quezon City - Computer Engineering\n",
        "--- | ---\n",
        "Course Code: | CPE 018\n",
        "Code Title: | Advanced Machine Learning and Deep Learning\n",
        "1st Semester | AY 2023-2024\n",
        "<u>**ACTIVITY NO. 3** | **Basic I/O Scripting, Part 2**\n",
        "**Name** | LastName, FirstName\n",
        "**Section** | CPE32S3\n",
        "**Date Performed**: |\n",
        "**Date Submitted**: |\n",
        "**Instructor**: |Engr. Roman M. Richard"
      ]
    },
    {
      "cell_type": "markdown",
      "metadata": {
        "id": "ElMxAUPJGYLw"
      },
      "source": [
        "## 1. Objectives"
      ]
    },
    {
      "cell_type": "markdown",
      "metadata": {
        "id": "dr0bUEs1nxE0"
      },
      "source": [
        "This activity aims to enable students to perform data preparation and face recognition on their own generated dataset."
      ]
    },
    {
      "cell_type": "markdown",
      "metadata": {
        "id": "do-8nSpXFpyd"
      },
      "source": [
        "## 2. Intended Learning Outcomes (ILOs)\n",
        "After this activity, the students should be able to:\n",
        "* Utilize data preparation techniques for images.\n",
        "* Perform Face Recognition using multiple algorithms.\n",
        "* Evaluate the performance of different algorithms."
      ]
    },
    {
      "cell_type": "markdown",
      "metadata": {
        "id": "X-RNZovNGV9k"
      },
      "source": [
        "## 3. Procedures and Outputs"
      ]
    },
    {
      "cell_type": "markdown",
      "metadata": {
        "id": "lBQh8Eyf1EHC"
      },
      "source": [
        "### Preparing the training data"
      ]
    },
    {
      "cell_type": "markdown",
      "metadata": {
        "id": "hpAAiS_V1Jfy"
      },
      "source": [
        "Now that we have our data, we need to load these sample pictures into our face recognition algorithms. All face recognition algorithms take two parameters in their `train()` method: an array of images and an array of labels. What do these labels represent? They are the IDs of a certain individual/face so that when face recognition is performed, we not only know the person was recognized but also who—among the many people available in our database—the person is.\n",
        "\n",
        "To do that, we need to create a comma-separated value (CSV) file, which will contain the path to a sample picture followed by the ID of that person."
      ]
    },
    {
      "cell_type": "markdown",
      "metadata": {
        "id": "sWqIq9Sz1Svi"
      },
      "source": [
        "**Include a Screenshot of Your Dataset Here**"
      ]
    },
    {
      "attachments": {
        "image.png": {
          "image/png": "[encoded data removed]"
        }
      },
      "cell_type": "markdown",
      "metadata": {},
      "source": [
        "![image.png](attachment:image.png)"
      ]
    },
    {
      "cell_type": "code",
      "execution_count": 20,
      "metadata": {},
      "outputs": [
        {
          "name": "stdout",
          "output_type": "stream",
          "text": [
            "Requirement already satisfied: opencv-contrib-python in c:\\users\\user\\anaconda3\\lib\\site-packages (4.11.0.86)Note: you may need to restart the kernel to use updated packages.\n",
            "\n",
            "Requirement already satisfied: numpy>=1.21.2 in c:\\users\\user\\anaconda3\\lib\\site-packages (from opencv-contrib-python) (1.26.4)\n"
          ]
        }
      ],
      "source": [
        "pip install opencv-contrib-python"
      ]
    },
    {
      "cell_type": "markdown",
      "metadata": {
        "id": "1SiR2yJQ1W7B"
      },
      "source": [
        "---"
      ]
    },
    {
      "cell_type": "markdown",
      "metadata": {
        "id": "TPA3SGHN1YdC"
      },
      "source": [
        "### Loading the data and recognizing faces"
      ]
    },
    {
      "cell_type": "markdown",
      "metadata": {
        "id": "Q07mfdMq1b2J"
      },
      "source": [
        "Next up, we need to load these two resources (the array of images and CSV file) into the face recognition algorithm, so it can be trained to recognize our face. To do this, we build a function that reads the CSV file and—for each line of the file—loads the image at the corresponding path into the images array and the ID into the labels array."
      ]
    },
    {
      "cell_type": "code",
      "execution_count": 228,
      "metadata": {
        "id": "c4TmUw_BEeUc"
      },
      "outputs": [],
      "source": [
        "import numpy as np\n",
        "import os\n",
        "import errno\n",
        "import sys\n",
        "import cv2\n",
        "\n",
        "def read_images(path, sz=None):\n",
        "  c = 0\n",
        "  X, y = [], []\n",
        "\n",
        "  for dirname, dirnames, filenames in os.walk(path):\n",
        "    for subdirname in dirnames:\n",
        "      subject_path = os.path.join(dirname, subdirname)\n",
        "      for filename in os.listdir(subject_path):\n",
        "        try:\n",
        "          if(filename == \".directory\"):\n",
        "            continue\n",
        "          filepath = os.path.join(subject_path, filename)\n",
        "          im = cv2.imread(os.path.join(subject_path, filename), cv2.IMREAD_GRAYSCALE)\n",
        "\n",
        "          # Resize the images to the prescribed size\n",
        "          if (sz is not None):\n",
        "            im = cv2.resize(im, (200,200))\n",
        "\n",
        "          X.append(np.asarray(im, dtype=np.uint8))\n",
        "          y.append(c)\n",
        "\n",
        "        except IOError as e:\n",
        "          print(f\"I/O Error({e.errno}): {e.strerror}\")\n",
        "        except:\n",
        "          print(\"Unexpected error:\", sys.exc_info()[0])\n",
        "          raise\n",
        "      c = c+1\n",
        "  return [X, y]"
      ]
    },
    {
      "cell_type": "code",
      "execution_count": 142,
      "metadata": {},
      "outputs": [
        {
          "name": "stdout",
          "output_type": "stream",
          "text": [
            "[[array([[168, 157, 156, ..., 145, 163, 161],\n",
            "       [152, 147, 158, ..., 130, 144, 156],\n",
            "       [151, 147, 160, ..., 135, 146, 157],\n",
            "       ...,\n",
            "       [ 87,  94,  87, ..., 195, 195, 197],\n",
            "       [ 92,  89,  83, ..., 192, 194, 197],\n",
            "       [ 93,  82,  76, ..., 192, 191, 192]], dtype=uint8), array([[174, 173, 162, ..., 158, 163, 169],\n",
            "       [173, 175, 163, ..., 164, 160, 162],\n",
            "       [165, 172, 163, ..., 164, 165, 174],\n",
            "       ...,\n",
            "       [162, 169, 169, ..., 178, 180, 177],\n",
            "       [170, 168, 153, ..., 186, 181, 190],\n",
            "       [152, 146, 140, ..., 184, 178, 191]], dtype=uint8), array([[121, 125, 115, ..., 129, 131, 134],\n",
            "       [111, 111, 107, ..., 134, 138, 138],\n",
            "       [134, 131, 124, ..., 129, 140, 144],\n",
            "       ...,\n",
            "       [ 67,  67,  84, ..., 158, 164, 161],\n",
            "       [ 43,  36,  77, ..., 161, 166, 160],\n",
            "       [ 65,  43,  66, ..., 164, 172, 156]], dtype=uint8), array([[126, 124, 152, ..., 148, 140, 135],\n",
            "       [132, 131, 145, ..., 143, 139, 136],\n",
            "       [132, 128, 129, ..., 154, 149, 152],\n",
            "       ...,\n",
            "       [152, 154, 161, ..., 192, 196, 190],\n",
            "       [169, 163, 151, ..., 188, 199, 201],\n",
            "       [144, 163, 146, ..., 187, 198, 211]], dtype=uint8), array([[146, 144, 140, ..., 200, 203, 206],\n",
            "       [150, 145, 136, ..., 203, 203, 204],\n",
            "       [148, 144, 133, ..., 205, 205, 204],\n",
            "       ...,\n",
            "       [143, 148, 157, ..., 199, 203, 201],\n",
            "       [149, 155, 160, ..., 203, 204, 202],\n",
            "       [161, 159, 159, ..., 203, 201, 201]], dtype=uint8), array([[174, 159, 171, ..., 148, 146, 142],\n",
            "       [176, 163, 163, ..., 154, 152, 144],\n",
            "       [165, 167, 173, ..., 152, 149, 141],\n",
            "       ...,\n",
            "       [128, 120, 114, ...,  95,  89, 114],\n",
            "       [130, 125, 107, ..., 103, 109, 108],\n",
            "       [ 92, 107,  90, ...,  85,  81,  88]], dtype=uint8), array([[178, 180, 184, ..., 196, 194, 194],\n",
            "       [187, 189, 187, ..., 197, 194, 195],\n",
            "       [192, 195, 189, ..., 196, 194, 195],\n",
            "       ...,\n",
            "       [133, 133, 127, ..., 113, 108, 105],\n",
            "       [122, 121, 123, ..., 119, 116, 112],\n",
            "       [115, 111, 117, ..., 117, 114, 105]], dtype=uint8), array([[140, 142, 146, ..., 170, 181, 176],\n",
            "       [139, 144, 145, ..., 171, 176, 177],\n",
            "       [149, 150, 147, ..., 171, 170, 177],\n",
            "       ...,\n",
            "       [132, 135, 138, ...,  13,  18,  23],\n",
            "       [148, 152, 151, ...,  26,  23,  22],\n",
            "       [147, 149, 154, ...,  26,  25,  33]], dtype=uint8), array([[148, 147, 145, ..., 177, 173, 169],\n",
            "       [153, 147, 150, ..., 173, 165, 161],\n",
            "       [137, 141, 155, ..., 173, 164, 164],\n",
            "       ...,\n",
            "       [ 40,  52,  57, ..., 167, 167, 163],\n",
            "       [ 43,  54,  54, ..., 170, 168, 161],\n",
            "       [ 51,  48,  59, ..., 165, 165, 171]], dtype=uint8), array([[122, 108, 104, ..., 166, 176, 180],\n",
            "       [109, 113, 113, ..., 165, 166, 170],\n",
            "       [112, 123, 126, ..., 173, 165, 162],\n",
            "       ...,\n",
            "       [ 51,  66,  54, ..., 136, 138, 139],\n",
            "       [ 54,  66,  55, ..., 147, 146, 160],\n",
            "       [ 62,  71,  51, ..., 138, 142, 158]], dtype=uint8), array([[194, 194, 195, ..., 186, 186, 186],\n",
            "       [194, 194, 195, ..., 186, 186, 186],\n",
            "       [194, 194, 195, ..., 186, 186, 186],\n",
            "       ...,\n",
            "       [ 75,  75,  75, ...,  68,  68,  69],\n",
            "       [ 75,  75,  75, ...,  66,  67,  68],\n",
            "       [ 75,  75,  75, ...,  64,  66,  67]], dtype=uint8), array([[176, 177, 178, ..., 192, 192, 192],\n",
            "       [174, 174, 173, ..., 192, 192, 192],\n",
            "       [161, 161, 160, ..., 192, 192, 192],\n",
            "       ...,\n",
            "       [ 55,  58,  60, ..., 113, 114, 114],\n",
            "       [ 63,  63,  62, ..., 113, 114, 114],\n",
            "       [ 68,  65,  61, ..., 112, 113, 114]], dtype=uint8), array([[132, 132, 131, ..., 176, 176, 176],\n",
            "       [133, 132, 132, ..., 176, 176, 176],\n",
            "       [134, 133, 133, ..., 176, 176, 176],\n",
            "       ...,\n",
            "       [ 69,  72,  75, ...,  47,  47,  47],\n",
            "       [ 67,  72,  77, ...,  47,  47,  47],\n",
            "       [ 67,  72,  79, ...,  47,  47,  47]], dtype=uint8), array([[197, 196, 195, ..., 174, 172, 171],\n",
            "       [197, 196, 195, ..., 174, 173, 172],\n",
            "       [196, 195, 195, ..., 173, 173, 173],\n",
            "       ...,\n",
            "       [ 70,  69,  69, ...,  73,  73,  73],\n",
            "       [ 71,  71,  70, ...,  73,  73,  73],\n",
            "       [ 73,  72,  72, ...,  74,  73,  73]], dtype=uint8), array([[217, 218, 218, ..., 184, 184, 184],\n",
            "       [217, 218, 219, ..., 184, 184, 184],\n",
            "       [217, 218, 219, ..., 184, 184, 184],\n",
            "       ...,\n",
            "       [ 62,  63,  65, ...,  58,  58,  58],\n",
            "       [ 62,  63,  65, ...,  59,  59,  59],\n",
            "       [ 63,  63,  65, ...,  59,  59,  59]], dtype=uint8), array([[ 41,  41,  40, ..., 200, 200, 200],\n",
            "       [ 41,  41,  40, ..., 200, 200, 200],\n",
            "       [ 43,  42,  41, ..., 200, 200, 200],\n",
            "       ...,\n",
            "       [ 29,  29,  29, ..., 170, 170, 170],\n",
            "       [ 28,  29,  29, ..., 170, 170, 170],\n",
            "       [ 28,  28,  28, ..., 170, 170, 170]], dtype=uint8), array([[219, 219, 219, ..., 178, 178, 178],\n",
            "       [219, 219, 219, ..., 178, 178, 178],\n",
            "       [219, 219, 219, ..., 178, 178, 178],\n",
            "       ...,\n",
            "       [ 44,  43,  42, ...,  73,  72,  72],\n",
            "       [ 46,  46,  48, ...,  72,  72,  71],\n",
            "       [ 47,  48,  51, ...,  72,  71,  71]], dtype=uint8), array([[138, 134, 129, ..., 175, 175, 175],\n",
            "       [137, 133, 128, ..., 176, 176, 176],\n",
            "       [137, 133, 127, ..., 176, 176, 176],\n",
            "       ...,\n",
            "       [ 51,  51,  51, ...,  47,  50,  52],\n",
            "       [ 48,  48,  48, ...,  46,  47,  49],\n",
            "       [ 47,  47,  46, ...,  45,  45,  46]], dtype=uint8), array([[138, 138, 138, ..., 185, 185, 185],\n",
            "       [138, 138, 138, ..., 185, 185, 185],\n",
            "       [137, 137, 137, ..., 185, 185, 185],\n",
            "       ...,\n",
            "       [144, 145, 145, ..., 152, 151, 151],\n",
            "       [144, 144, 145, ..., 153, 152, 152],\n",
            "       [144, 144, 145, ..., 154, 153, 153]], dtype=uint8), array([[211, 211, 211, ..., 180, 180, 180],\n",
            "       [211, 211, 211, ..., 180, 180, 180],\n",
            "       [211, 211, 211, ..., 180, 180, 180],\n",
            "       ...,\n",
            "       [ 44,  45,  46, ...,  39,  39,  38],\n",
            "       [ 41,  42,  44, ...,  36,  35,  34],\n",
            "       [ 38,  39,  41, ...,  34,  33,  32]], dtype=uint8), array([[168, 157, 156, ..., 145, 163, 161],\n",
            "       [152, 147, 158, ..., 130, 144, 156],\n",
            "       [151, 147, 160, ..., 135, 146, 157],\n",
            "       ...,\n",
            "       [ 87,  94,  87, ..., 195, 195, 197],\n",
            "       [ 92,  89,  83, ..., 192, 194, 197],\n",
            "       [ 93,  82,  76, ..., 192, 191, 192]], dtype=uint8), array([[168, 157, 156, ..., 145, 163, 161],\n",
            "       [152, 147, 158, ..., 130, 144, 156],\n",
            "       [151, 147, 160, ..., 135, 146, 157],\n",
            "       ...,\n",
            "       [ 87,  94,  87, ..., 195, 195, 197],\n",
            "       [ 92,  89,  83, ..., 192, 194, 197],\n",
            "       [ 93,  82,  76, ..., 192, 191, 192]], dtype=uint8), array([[174, 173, 162, ..., 158, 163, 169],\n",
            "       [173, 175, 163, ..., 164, 160, 162],\n",
            "       [165, 172, 163, ..., 164, 165, 174],\n",
            "       ...,\n",
            "       [162, 169, 169, ..., 178, 180, 177],\n",
            "       [170, 168, 153, ..., 186, 181, 190],\n",
            "       [152, 146, 140, ..., 184, 178, 191]], dtype=uint8), array([[174, 173, 162, ..., 158, 163, 169],\n",
            "       [173, 175, 163, ..., 164, 160, 162],\n",
            "       [165, 172, 163, ..., 164, 165, 174],\n",
            "       ...,\n",
            "       [162, 169, 169, ..., 178, 180, 177],\n",
            "       [170, 168, 153, ..., 186, 181, 190],\n",
            "       [152, 146, 140, ..., 184, 178, 191]], dtype=uint8), array([[121, 125, 115, ..., 129, 131, 134],\n",
            "       [111, 111, 107, ..., 134, 138, 138],\n",
            "       [134, 131, 124, ..., 129, 140, 144],\n",
            "       ...,\n",
            "       [ 67,  67,  84, ..., 158, 164, 161],\n",
            "       [ 43,  36,  77, ..., 161, 166, 160],\n",
            "       [ 65,  43,  66, ..., 164, 172, 156]], dtype=uint8), array([[121, 125, 115, ..., 129, 131, 134],\n",
            "       [111, 111, 107, ..., 134, 138, 138],\n",
            "       [134, 131, 124, ..., 129, 140, 144],\n",
            "       ...,\n",
            "       [ 67,  67,  84, ..., 158, 164, 161],\n",
            "       [ 43,  36,  77, ..., 161, 166, 160],\n",
            "       [ 65,  43,  66, ..., 164, 172, 156]], dtype=uint8), array([[126, 124, 152, ..., 148, 140, 135],\n",
            "       [132, 131, 145, ..., 143, 139, 136],\n",
            "       [132, 128, 129, ..., 154, 149, 152],\n",
            "       ...,\n",
            "       [152, 154, 161, ..., 192, 196, 190],\n",
            "       [169, 163, 151, ..., 188, 199, 201],\n",
            "       [144, 163, 146, ..., 187, 198, 211]], dtype=uint8), array([[126, 124, 152, ..., 148, 140, 135],\n",
            "       [132, 131, 145, ..., 143, 139, 136],\n",
            "       [132, 128, 129, ..., 154, 149, 152],\n",
            "       ...,\n",
            "       [152, 154, 161, ..., 192, 196, 190],\n",
            "       [169, 163, 151, ..., 188, 199, 201],\n",
            "       [144, 163, 146, ..., 187, 198, 211]], dtype=uint8), array([[146, 144, 140, ..., 200, 203, 206],\n",
            "       [150, 145, 136, ..., 203, 203, 204],\n",
            "       [148, 144, 133, ..., 205, 205, 204],\n",
            "       ...,\n",
            "       [143, 148, 157, ..., 199, 203, 201],\n",
            "       [149, 155, 160, ..., 203, 204, 202],\n",
            "       [161, 159, 159, ..., 203, 201, 201]], dtype=uint8), array([[146, 144, 140, ..., 200, 203, 206],\n",
            "       [150, 145, 136, ..., 203, 203, 204],\n",
            "       [148, 144, 133, ..., 205, 205, 204],\n",
            "       ...,\n",
            "       [143, 148, 157, ..., 199, 203, 201],\n",
            "       [149, 155, 160, ..., 203, 204, 202],\n",
            "       [161, 159, 159, ..., 203, 201, 201]], dtype=uint8), array([[174, 159, 171, ..., 148, 146, 142],\n",
            "       [176, 163, 163, ..., 154, 152, 144],\n",
            "       [165, 167, 173, ..., 152, 149, 141],\n",
            "       ...,\n",
            "       [128, 120, 114, ...,  95,  89, 114],\n",
            "       [130, 125, 107, ..., 103, 109, 108],\n",
            "       [ 92, 107,  90, ...,  85,  81,  88]], dtype=uint8), array([[174, 159, 171, ..., 148, 146, 142],\n",
            "       [176, 163, 163, ..., 154, 152, 144],\n",
            "       [165, 167, 173, ..., 152, 149, 141],\n",
            "       ...,\n",
            "       [128, 120, 114, ...,  95,  89, 114],\n",
            "       [130, 125, 107, ..., 103, 109, 108],\n",
            "       [ 92, 107,  90, ...,  85,  81,  88]], dtype=uint8), array([[178, 180, 184, ..., 196, 194, 194],\n",
            "       [187, 189, 187, ..., 197, 194, 195],\n",
            "       [192, 195, 189, ..., 196, 194, 195],\n",
            "       ...,\n",
            "       [133, 133, 127, ..., 113, 108, 105],\n",
            "       [122, 121, 123, ..., 119, 116, 112],\n",
            "       [115, 111, 117, ..., 117, 114, 105]], dtype=uint8), array([[178, 180, 184, ..., 196, 194, 194],\n",
            "       [187, 189, 187, ..., 197, 194, 195],\n",
            "       [192, 195, 189, ..., 196, 194, 195],\n",
            "       ...,\n",
            "       [133, 133, 127, ..., 113, 108, 105],\n",
            "       [122, 121, 123, ..., 119, 116, 112],\n",
            "       [115, 111, 117, ..., 117, 114, 105]], dtype=uint8), array([[140, 142, 146, ..., 170, 181, 176],\n",
            "       [139, 144, 145, ..., 171, 176, 177],\n",
            "       [149, 150, 147, ..., 171, 170, 177],\n",
            "       ...,\n",
            "       [132, 135, 138, ...,  13,  18,  23],\n",
            "       [148, 152, 151, ...,  26,  23,  22],\n",
            "       [147, 149, 154, ...,  26,  25,  33]], dtype=uint8), array([[140, 142, 146, ..., 170, 181, 176],\n",
            "       [139, 144, 145, ..., 171, 176, 177],\n",
            "       [149, 150, 147, ..., 171, 170, 177],\n",
            "       ...,\n",
            "       [132, 135, 138, ...,  13,  18,  23],\n",
            "       [148, 152, 151, ...,  26,  23,  22],\n",
            "       [147, 149, 154, ...,  26,  25,  33]], dtype=uint8), array([[148, 147, 145, ..., 177, 173, 169],\n",
            "       [153, 147, 150, ..., 173, 165, 161],\n",
            "       [137, 141, 155, ..., 173, 164, 164],\n",
            "       ...,\n",
            "       [ 40,  52,  57, ..., 167, 167, 163],\n",
            "       [ 43,  54,  54, ..., 170, 168, 161],\n",
            "       [ 51,  48,  59, ..., 165, 165, 171]], dtype=uint8), array([[148, 147, 145, ..., 177, 173, 169],\n",
            "       [153, 147, 150, ..., 173, 165, 161],\n",
            "       [137, 141, 155, ..., 173, 164, 164],\n",
            "       ...,\n",
            "       [ 40,  52,  57, ..., 167, 167, 163],\n",
            "       [ 43,  54,  54, ..., 170, 168, 161],\n",
            "       [ 51,  48,  59, ..., 165, 165, 171]], dtype=uint8), array([[122, 108, 104, ..., 166, 176, 180],\n",
            "       [109, 113, 113, ..., 165, 166, 170],\n",
            "       [112, 123, 126, ..., 173, 165, 162],\n",
            "       ...,\n",
            "       [ 51,  66,  54, ..., 136, 138, 139],\n",
            "       [ 54,  66,  55, ..., 147, 146, 160],\n",
            "       [ 62,  71,  51, ..., 138, 142, 158]], dtype=uint8), array([[122, 108, 104, ..., 166, 176, 180],\n",
            "       [109, 113, 113, ..., 165, 166, 170],\n",
            "       [112, 123, 126, ..., 173, 165, 162],\n",
            "       ...,\n",
            "       [ 51,  66,  54, ..., 136, 138, 139],\n",
            "       [ 54,  66,  55, ..., 147, 146, 160],\n",
            "       [ 62,  71,  51, ..., 138, 142, 158]], dtype=uint8)], [0, 0, 0, 0, 0, 0, 0, 0, 0, 0, 1, 1, 1, 1, 1, 1, 1, 1, 1, 1, 2, 2, 2, 2, 2, 2, 2, 2, 2, 2, 2, 2, 2, 2, 2, 2, 2, 2, 2, 2]]\n"
          ]
        }
      ],
      "source": [
        "test_data = read_images(\"dataset\")\n",
        "print(test_data)"
      ]
    },
    {
      "cell_type": "markdown",
      "metadata": {
        "id": "aWNBxCbO2oO-"
      },
      "source": [
        "**Question: Run the function above on your generated dataset. Provide an analysis and note all the challenges you have encountered running this code.**"
      ]
    },
    {
      "cell_type": "markdown",
      "metadata": {
        "id": "SJ5IMZcC3wZt"
      },
      "source": [
        "---"
      ]
    },
    {
      "cell_type": "markdown",
      "metadata": {
        "id": "DlLWfyvY3xm0"
      },
      "source": [
        "### Performing Face Recognition Algorithms"
      ]
    },
    {
      "cell_type": "markdown",
      "metadata": {
        "id": "FVF9dfTQ30pc"
      },
      "source": [
        "Here is a sample script for testing the Face Recognition Algorithm. In this section, we're going to follow the same process but with different algorithms for face recognitions, namely:\n",
        "- Eigenface Recognition\n",
        "- Fisherface Recognition\n",
        "- Local Binary Pattern Histograms (LBPH) Recognition"
      ]
    },
    {
      "cell_type": "code",
      "execution_count": null,
      "metadata": {
        "id": "cYQ19foI4Oe7"
      },
      "outputs": [],
      "source": [
        "def face_rec():\n",
        "  names = ['Friend1', 'Friend2'] # Put your names here for faces to recognize\n",
        "  if len(sys.argv) < 2:\n",
        "    print(\"USAGE: facerec_demo.py </path/to/images> [</path/to/store/images/at>]\")\n",
        "    sys.exit()\n",
        "\n",
        "  [X, y] = read_images(\"dataset\", (200,200))\n",
        "  y = np.asarray(y, dtype=np.int32)\n",
        "\n",
        "  model = cv2.face.EigenFaceRecognizer_create()\n",
        "  model.train(X, y)\n",
        "\n",
        "  camera = cv2.VideoCapture(0)\n",
        "  face_cascade = cv2.CascadeClassifier('haarcascade_frontalface_default.xml')\n",
        "\n",
        "  while True:\n",
        "    ret, img = camera.read()\n",
        "    if not ret:\n",
        "      break\n",
        "\n",
        "    faces = face_cascade.detectMultiScale(img, 1.3, 5)\n",
        "\n",
        "    for (x, y, w, h) in faces:\n",
        "      cv2.rectangle(img, (x, y), (x + w, y + h), (255, 0, 0), 2)\n",
        "      gray = cv2.cvtColor(img[y:y + h, x:x + w], cv2.COLOR_BGR2GRAY)\n",
        "      roi = cv2.resize(gray, (200, 200), interpolation=cv2.INTER_LINEAR)\n",
        "\n",
        "      try:\n",
        "        params = model.predict(roi)\n",
        "        label = names[params[0]]\n",
        "        cv2.putText(img, label + \", \" + str(params[1]), (x, y - 20), cv2.FONT_HERSHEY_SIMPLEX, 1, (255, 0, 0), 2)\n",
        "      except:\n",
        "        continue\n",
        "\n",
        "    cv2.imshow(\"camera\", img)\n",
        "    if cv2.waitKey(1) & 0xFF == ord(\"q\"):\n",
        "      break\n",
        "\n",
        "  camera.release()\n",
        "  cv2.destroyAllWindows()\n",
        "\n",
        "if __name__ == \"__main__\":\n",
        "  face_rec()\n"
      ]
    },
    {
      "cell_type": "markdown",
      "metadata": {
        "id": "iChhyN_Y4OH7"
      },
      "source": [
        "**Question: Provide an analysis of the sample script for the process using the Eigenface Model. What is the sample code doing? Are you able to troubleshoot any problems encountered?**"
      ]
    },
    {
      "cell_type": "markdown",
      "metadata": {
        "id": "-dL7n-mc5JO6"
      },
      "source": [
        "---\n",
        "Perform the remaining face recognition techniques by using the same (or modified) process from the sample code:\n",
        "\n",
        "- `model = cv2.face.createFisherFaceRecognizer()`\n",
        "- `model = cv2.face.createLBPHFaceRecognizer()`"
      ]
    },
    {
      "cell_type": "markdown",
      "metadata": {
        "id": "gb6Zeh9S5Y1o"
      },
      "source": [
        "**Question: The `predict()` method returns a two-element array. Provide your analysis of the two returned values and their important ince this application.**"
      ]
    },
    {
      "cell_type": "markdown",
      "metadata": {
        "id": "Mkyd0KjtGl79"
      },
      "source": [
        "## 4. Supplementary Activity"
      ]
    },
    {
      "cell_type": "markdown",
      "metadata": {
        "id": "Zgo4nuQt506X"
      },
      "source": [
        "Your accomplisment of the tasks below contribute to the achievement of ILO1, ILO2, and ILO3 for this module.\n",
        "\n",
        "---\n",
        "\n",
        "Tasks:\n",
        "1. Create a new dataset for testing, this dataset must include the following:\n",
        "  - The same person/s that the model has to recognize.\n",
        "  - Different person/s that the model should not recognize.\n",
        "2. For each model, perform 20 tests. Document the testing performed and provide observations.\n",
        "3. Conclude on the performed tests by providing your evaluation of the performance of the models."
      ]
    },
    {
      "cell_type": "code",
      "execution_count": 229,
      "metadata": {},
      "outputs": [],
      "source": [
        "def face_rec(dataset, model):\n",
        "  names = ['Friend1', 'Friend2']\n",
        "  [X, y] = read_images(dataset, (200,200))\n",
        "  y = np.asarray(y, dtype=np.int32)\n",
        "\n",
        "  model.train(X, y)\n",
        "\n",
        "  camera = cv2.VideoCapture(0)\n",
        "  face_cascade = cv2.CascadeClassifier('haarcascade_frontalface_default.xml')\n",
        "\n",
        "  while True:\n",
        "    ret, img = camera.read()\n",
        "    if not ret:\n",
        "      break\n",
        "\n",
        "    faces = face_cascade.detectMultiScale(img, 1.3, 5)\n",
        "\n",
        "    for (x, y, w, h) in faces:\n",
        "      cv2.rectangle(img, (x, y), (x + w, y + h), (255, 0, 0), 2)\n",
        "      gray = cv2.cvtColor(img[y:y + h, x:x + w], cv2.COLOR_BGR2GRAY)\n",
        "      roi = cv2.resize(gray, (200, 200), interpolation=cv2.INTER_LINEAR)\n",
        "\n",
        "      try:\n",
        "        params = model.predict(roi)\n",
        "        label = names[params[0]] \n",
        "        if label == \"Friend1\":\n",
        "          cv2.putText(img, \"Recognized\", (x, y - 20), cv2.FONT_HERSHEY_SIMPLEX, 1, (0, 255, 0), 2)\n",
        "        else:\n",
        "          cv2.putText(img, \"Unknown\", (x, y - 20), cv2.FONT_HERSHEY_SIMPLEX, 1, (0, 0, 255), 2)\n",
        "      except:\n",
        "        continue\n",
        "\n",
        "    cv2.imshow(\"camera\", img)\n",
        "    if cv2.waitKey(1) & 0xFF == ord(\"q\"):\n",
        "      break\n",
        "\n",
        "  camera.release()\n",
        "  cv2.destroyAllWindows()"
      ]
    },
    {
      "cell_type": "code",
      "execution_count": 226,
      "metadata": {},
      "outputs": [],
      "source": [
        "model1 = cv2.face.EigenFaceRecognizer_create()\n",
        "face_rec(\"dataset\", model1)"
      ]
    },
    {
      "cell_type": "code",
      "execution_count": 230,
      "metadata": {},
      "outputs": [],
      "source": [
        "model2 = cv2.face.FisherFaceRecognizer_create()\n",
        "face_rec(\"dataset\", model2)"
      ]
    },
    {
      "cell_type": "code",
      "execution_count": 231,
      "metadata": {},
      "outputs": [],
      "source": [
        "model3 = cv2.face.LBPHFaceRecognizer_create()\n",
        "face_rec(\"dataset\", model3)"
      ]
    },
    {
      "cell_type": "markdown",
      "metadata": {},
      "source": [
        "The Fisher Face Recognizer is the best of the three models, with 11 correct matches out of 20, slightly surpassing the Eigen Face Recognizer, which had 10. The Eigen Face Recognizer also performed well, but struggled with unfamiliar faces, resulting in mismatches. The LBPH Face Recognizer performed the worst, with only four correct matches and numerous instances of failing to recognize faces. Fisher Face Recognizer produced several false positives, but it was the most consistent in correctly identifying known faces. Overall, Fisher Face Recognizer is the most dependable of the three."
      ]
    },
    {
      "cell_type": "markdown",
      "metadata": {},
      "source": [
        "document link for testing: https://docs.google.com/document/d/1fflwXqSu1OFiDPzb8jzB7FaOJfct8ERLuhCOmmWMvuc/edit?usp=sharing"
      ]
    },
    {
      "cell_type": "markdown",
      "metadata": {
        "id": "KQspxP0IGoO1"
      },
      "source": [
        "## 5. Summary, Conclusions and Lessons Learned"
      ]
    },
    {
      "cell_type": "markdown",
      "metadata": {
        "id": "KvcmGICAoj1a"
      },
      "source": [
        "In this activity, we implemented a face recognition system using OpenCV, which can identify known individuals and label unknown faces. By training the model with specific images and setting a confidence threshold, we ensured accurate recognition and differentiation between recognized and unrecognized persons."
      ]
    },
    {
      "cell_type": "markdown",
      "metadata": {
        "id": "EqlVIPSqolAC"
      },
      "source": [
        "<hr/>\n",
        "\n",
        "***Proprietary Clause***\n",
        "\n",
        "*Property of the Technological Institute of the Philippines (T.I.P.). No part of the materials made and uploaded in this learning management system by T.I.P. may be copied, photographed, printed, reproduced, shared, transmitted, translated, or reduced to any electronic medium or machine-readable form, in whole or in part, without the prior consent of T.I.P.*"
      ]
    }
  ],
  "metadata": {
    "colab": {
      "collapsed_sections": [
        "ElMxAUPJGYLw",
        "X-RNZovNGV9k",
        "Mkyd0KjtGl79",
        "KQspxP0IGoO1"
      ],
      "provenance": []
    },
    "kernelspec": {
      "display_name": "base",
      "language": "python",
      "name": "python3"
    },
    "language_info": {
      "codemirror_mode": {
        "name": "ipython",
        "version": 3
      },
      "file_extension": ".py",
      "mimetype": "text/x-python",
      "name": "python",
      "nbconvert_exporter": "python",
      "pygments_lexer": "ipython3",
      "version": "3.12.7"
    }
  },
  "nbformat": 4,
  "nbformat_minor": 0
}
